{
  "nbformat": 4,
  "nbformat_minor": 0,
  "metadata": {
    "colab": {
      "name": "Untitled4.ipynb",
      "provenance": []
    },
    "kernelspec": {
      "name": "python3",
      "display_name": "Python 3"
    },
    "language_info": {
      "name": "python"
    }
  },
  "cells": [
    {
      "cell_type": "code",
      "execution_count": null,
      "metadata": {
        "id": "oMTTbmskiNNm"
      },
      "outputs": [],
      "source": [
        "import nltk\n",
        "import json\n",
        "import random\n",
        "import string\n",
        "\n",
        "import numpy as np\n",
        "from nltk.stem import WordNetLemmatizer\n",
        "import tensorflow as tf\n",
        "from tensorflow.keras import Sequential\n",
        "from tensorflow.keras.layers import Dense, Dropout\n"
      ]
    },
    {
      "cell_type": "code",
      "source": [
        "nltk.download('punkt')\n",
        "nltk.download('wordnet')\n"
      ],
      "metadata": {
        "colab": {
          "base_uri": "https://localhost:8080/"
        },
        "id": "5wFJJxEoiQ9F",
        "outputId": "f4a2fd00-4ae7-4108-c210-bf26820ec746"
      },
      "execution_count": null,
      "outputs": [
        {
          "output_type": "stream",
          "name": "stderr",
          "text": [
            "[nltk_data] Downloading package punkt to /root/nltk_data...\n",
            "[nltk_data]   Unzipping tokenizers/punkt.zip.\n",
            "[nltk_data] Downloading package wordnet to /root/nltk_data...\n"
          ]
        },
        {
          "output_type": "execute_result",
          "data": {
            "text/plain": [
              "True"
            ]
          },
          "metadata": {},
          "execution_count": 4
        }
      ]
    },
    {
      "cell_type": "code",
      "source": [
        "from google.colab import drive\n",
        "drive.mount('/content/drive')\n",
        "data_root='/content/drive/My Drive/Chatbot'"
      ],
      "metadata": {
        "colab": {
          "base_uri": "https://localhost:8080/"
        },
        "id": "RdIo-wREi18T",
        "outputId": "59e18bab-aaee-48ce-bbb8-5cb6918c6214"
      },
      "execution_count": null,
      "outputs": [
        {
          "output_type": "stream",
          "name": "stdout",
          "text": [
            "Mounted at /content/drive\n"
          ]
        }
      ]
    },
    {
      "cell_type": "code",
      "source": [
        "data_file=open(data_root+'/intents.json').read()\n",
        "data=json.loads(data_file)"
      ],
      "metadata": {
        "id": "bt1XR_R4jGzn"
      },
      "execution_count": null,
      "outputs": []
    },
    {
      "cell_type": "code",
      "source": [
        "nltk.download('omw-1.4')"
      ],
      "metadata": {
        "id": "6bWM9bdGwCM8"
      },
      "execution_count": null,
      "outputs": []
    },
    {
      "cell_type": "code",
      "source": [
        "words=[]\n",
        "classes=[]\n",
        "data_x=[]\n",
        "data_y=[]\n",
        "\n",
        "for intent in data['intents']:\n",
        "  for pattern in intent['patterns']:\n",
        "    tokens=nltk.word_tokenize(pattern)\n",
        "    words.extend(tokens)\n",
        "    data_x.append(pattern)\n",
        "    data_y.append(intent['tag']),\n",
        "\n",
        "  if intent['tag'] not in classes:\n",
        "    classes.append(intent['tag'])\n",
        "\n",
        "\n",
        "lemmatizer=WordNetLemmatizer()\n",
        "\n",
        "words=[lemmatizer.lemmatize(word.lower()) for word in words if word not in string.punctuation]\n",
        "words=sorted(set(words))\n",
        "classes=sorted(set(classes))"
      ],
      "metadata": {
        "id": "2Hk1NFEhsqy5"
      },
      "execution_count": null,
      "outputs": []
    },
    {
      "cell_type": "code",
      "source": [
        "import numpy as np\n",
        "training=[]\n",
        "out_empty=[0]*len(classes)\n",
        "\n",
        "for idx, doc in enumerate(data_x):\n",
        "  bow=[]\n",
        "  text=lemmatizer.lemmatize(doc.lower())\n",
        "\n",
        "  for word in words:\n",
        "    bow.append(1) if word in text else bow.append(0)\n",
        "\n",
        "  \n",
        "  output_row=list(out_empty)\n",
        "  output_row[classes.index(data_y[idx])]=1\n",
        "\n",
        "  training.append([bow,output_row])\n",
        "\n",
        "random.shuffle(training)\n",
        "training=np.array(training,dtype=object)\n",
        "\n",
        "train_x=np.array(list(training[:,0]))\n",
        "train_y=np.array(list(training[:,1]))"
      ],
      "metadata": {
        "id": "zBsfckPQvjUZ"
      },
      "execution_count": null,
      "outputs": []
    },
    {
      "cell_type": "code",
      "source": [
        "classes.index(data_y[idx])"
      ],
      "metadata": {
        "colab": {
          "base_uri": "https://localhost:8080/"
        },
        "id": "-JzFdaAosrys",
        "outputId": "4e447e68-6bf0-4d9f-c7bb-90bc12a6d078"
      },
      "execution_count": null,
      "outputs": [
        {
          "output_type": "execute_result",
          "data": {
            "text/plain": [
              "3"
            ]
          },
          "metadata": {},
          "execution_count": 38
        }
      ]
    },
    {
      "cell_type": "code",
      "source": [
        "model=Sequential()\n",
        "model.add(Dense(128,input_shape=(len(train_x[0]),),activation='relu'))\n",
        "model.add(Dropout(0.5))\n",
        "model.add(Dense(64,activation='relu'))\n",
        "model.add(Dropout(0.5))\n",
        "model.add(Dense(len(train_y[0]),activation='softmax'))\n",
        "adam=tf.keras.optimizers.Adam(learning_rate=0.01,decay=1e-6)\n",
        "model.compile(loss='categorical_crossentropy',\n",
        "              optimizer=adam,\n",
        "              metrics=['accuracy'])\n",
        "\n",
        "print(model.summary())\n",
        "model.fit(x=train_x,y=train_y,epochs=150,verbose=1)"
      ],
      "metadata": {
        "colab": {
          "base_uri": "https://localhost:8080/"
        },
        "id": "htAL1PapzPz_",
        "outputId": "ce661dd9-02f9-4ed0-a6ab-b2942ca8d43a"
      },
      "execution_count": null,
      "outputs": [
        {
          "output_type": "stream",
          "name": "stdout",
          "text": [
            "Model: \"sequential\"\n",
            "_________________________________________________________________\n",
            " Layer (type)                Output Shape              Param #   \n",
            "=================================================================\n",
            " dense (Dense)               (None, 128)               6272      \n",
            "                                                                 \n",
            " dropout (Dropout)           (None, 128)               0         \n",
            "                                                                 \n",
            " dense_1 (Dense)             (None, 64)                8256      \n",
            "                                                                 \n",
            " dropout_1 (Dropout)         (None, 64)                0         \n",
            "                                                                 \n",
            " dense_2 (Dense)             (None, 6)                 390       \n",
            "                                                                 \n",
            "=================================================================\n",
            "Total params: 14,918\n",
            "Trainable params: 14,918\n",
            "Non-trainable params: 0\n",
            "_________________________________________________________________\n",
            "None\n",
            "Epoch 1/150\n",
            "1/1 [==============================] - 1s 818ms/step - loss: 1.8052 - accuracy: 0.0385\n",
            "Epoch 2/150\n",
            "1/1 [==============================] - 0s 12ms/step - loss: 1.7449 - accuracy: 0.3462\n",
            "Epoch 3/150\n",
            "1/1 [==============================] - 0s 10ms/step - loss: 1.6804 - accuracy: 0.1154\n",
            "Epoch 4/150\n",
            "1/1 [==============================] - 0s 9ms/step - loss: 1.6297 - accuracy: 0.3462\n",
            "Epoch 5/150\n",
            "1/1 [==============================] - 0s 13ms/step - loss: 1.5916 - accuracy: 0.3077\n",
            "Epoch 6/150\n",
            "1/1 [==============================] - 0s 16ms/step - loss: 1.5769 - accuracy: 0.4231\n",
            "Epoch 7/150\n",
            "1/1 [==============================] - 0s 11ms/step - loss: 1.3687 - accuracy: 0.6538\n",
            "Epoch 8/150\n",
            "1/1 [==============================] - 0s 13ms/step - loss: 1.3632 - accuracy: 0.5385\n",
            "Epoch 9/150\n",
            "1/1 [==============================] - 0s 13ms/step - loss: 1.2649 - accuracy: 0.5000\n",
            "Epoch 10/150\n",
            "1/1 [==============================] - 0s 10ms/step - loss: 1.1220 - accuracy: 0.7308\n",
            "Epoch 11/150\n",
            "1/1 [==============================] - 0s 15ms/step - loss: 1.0236 - accuracy: 0.7692\n",
            "Epoch 12/150\n",
            "1/1 [==============================] - 0s 15ms/step - loss: 0.9948 - accuracy: 0.8077\n",
            "Epoch 13/150\n",
            "1/1 [==============================] - 0s 10ms/step - loss: 0.8481 - accuracy: 0.6538\n",
            "Epoch 14/150\n",
            "1/1 [==============================] - 0s 7ms/step - loss: 0.7462 - accuracy: 0.8462\n",
            "Epoch 15/150\n",
            "1/1 [==============================] - 0s 7ms/step - loss: 0.7143 - accuracy: 0.7308\n",
            "Epoch 16/150\n",
            "1/1 [==============================] - 0s 8ms/step - loss: 0.6039 - accuracy: 0.9231\n",
            "Epoch 17/150\n",
            "1/1 [==============================] - 0s 7ms/step - loss: 0.5871 - accuracy: 0.8077\n",
            "Epoch 18/150\n",
            "1/1 [==============================] - 0s 9ms/step - loss: 0.4937 - accuracy: 0.8462\n",
            "Epoch 19/150\n",
            "1/1 [==============================] - 0s 7ms/step - loss: 0.4006 - accuracy: 0.9615\n",
            "Epoch 20/150\n",
            "1/1 [==============================] - 0s 7ms/step - loss: 0.5360 - accuracy: 0.8462\n",
            "Epoch 21/150\n",
            "1/1 [==============================] - 0s 7ms/step - loss: 0.4189 - accuracy: 0.8846\n",
            "Epoch 22/150\n",
            "1/1 [==============================] - 0s 9ms/step - loss: 0.3958 - accuracy: 0.8462\n",
            "Epoch 23/150\n",
            "1/1 [==============================] - 0s 7ms/step - loss: 0.2819 - accuracy: 0.9615\n",
            "Epoch 24/150\n",
            "1/1 [==============================] - 0s 7ms/step - loss: 0.3506 - accuracy: 0.9231\n",
            "Epoch 25/150\n",
            "1/1 [==============================] - 0s 8ms/step - loss: 0.4415 - accuracy: 0.8462\n",
            "Epoch 26/150\n",
            "1/1 [==============================] - 0s 7ms/step - loss: 0.1694 - accuracy: 0.9231\n",
            "Epoch 27/150\n",
            "1/1 [==============================] - 0s 7ms/step - loss: 0.1871 - accuracy: 0.9615\n",
            "Epoch 28/150\n",
            "1/1 [==============================] - 0s 7ms/step - loss: 0.1243 - accuracy: 0.9231\n",
            "Epoch 29/150\n",
            "1/1 [==============================] - 0s 8ms/step - loss: 0.1769 - accuracy: 0.9231\n",
            "Epoch 30/150\n",
            "1/1 [==============================] - 0s 9ms/step - loss: 0.1822 - accuracy: 0.9231\n",
            "Epoch 31/150\n",
            "1/1 [==============================] - 0s 7ms/step - loss: 0.1464 - accuracy: 0.9615\n",
            "Epoch 32/150\n",
            "1/1 [==============================] - 0s 12ms/step - loss: 0.1553 - accuracy: 0.9615\n",
            "Epoch 33/150\n",
            "1/1 [==============================] - 0s 11ms/step - loss: 0.1295 - accuracy: 0.9615\n",
            "Epoch 34/150\n",
            "1/1 [==============================] - 0s 8ms/step - loss: 0.1355 - accuracy: 0.9231\n",
            "Epoch 35/150\n",
            "1/1 [==============================] - 0s 7ms/step - loss: 0.0738 - accuracy: 1.0000\n",
            "Epoch 36/150\n",
            "1/1 [==============================] - 0s 8ms/step - loss: 0.0228 - accuracy: 1.0000\n",
            "Epoch 37/150\n",
            "1/1 [==============================] - 0s 8ms/step - loss: 0.1421 - accuracy: 0.9231\n",
            "Epoch 38/150\n",
            "1/1 [==============================] - 0s 9ms/step - loss: 0.1121 - accuracy: 0.9615\n",
            "Epoch 39/150\n",
            "1/1 [==============================] - 0s 8ms/step - loss: 0.0265 - accuracy: 1.0000\n",
            "Epoch 40/150\n",
            "1/1 [==============================] - 0s 8ms/step - loss: 0.1478 - accuracy: 0.9231\n",
            "Epoch 41/150\n",
            "1/1 [==============================] - 0s 8ms/step - loss: 0.2862 - accuracy: 0.9615\n",
            "Epoch 42/150\n",
            "1/1 [==============================] - 0s 7ms/step - loss: 0.0135 - accuracy: 1.0000\n",
            "Epoch 43/150\n",
            "1/1 [==============================] - 0s 7ms/step - loss: 0.1557 - accuracy: 0.9615\n",
            "Epoch 44/150\n",
            "1/1 [==============================] - 0s 8ms/step - loss: 0.1090 - accuracy: 0.9615\n",
            "Epoch 45/150\n",
            "1/1 [==============================] - 0s 9ms/step - loss: 0.0701 - accuracy: 0.9615\n",
            "Epoch 46/150\n",
            "1/1 [==============================] - 0s 8ms/step - loss: 0.0701 - accuracy: 0.9615\n",
            "Epoch 47/150\n",
            "1/1 [==============================] - 0s 10ms/step - loss: 0.0156 - accuracy: 1.0000\n",
            "Epoch 48/150\n",
            "1/1 [==============================] - 0s 12ms/step - loss: 0.0895 - accuracy: 0.9615\n",
            "Epoch 49/150\n",
            "1/1 [==============================] - 0s 10ms/step - loss: 0.0345 - accuracy: 0.9615\n",
            "Epoch 50/150\n",
            "1/1 [==============================] - 0s 9ms/step - loss: 0.0179 - accuracy: 1.0000\n",
            "Epoch 51/150\n",
            "1/1 [==============================] - 0s 9ms/step - loss: 0.0524 - accuracy: 1.0000\n",
            "Epoch 52/150\n",
            "1/1 [==============================] - 0s 10ms/step - loss: 0.0433 - accuracy: 1.0000\n",
            "Epoch 53/150\n",
            "1/1 [==============================] - 0s 15ms/step - loss: 0.0702 - accuracy: 0.9615\n",
            "Epoch 54/150\n",
            "1/1 [==============================] - 0s 14ms/step - loss: 0.0201 - accuracy: 1.0000\n",
            "Epoch 55/150\n",
            "1/1 [==============================] - 0s 12ms/step - loss: 0.0189 - accuracy: 1.0000\n",
            "Epoch 56/150\n",
            "1/1 [==============================] - 0s 14ms/step - loss: 0.0616 - accuracy: 0.9615\n",
            "Epoch 57/150\n",
            "1/1 [==============================] - 0s 12ms/step - loss: 0.0233 - accuracy: 1.0000\n",
            "Epoch 58/150\n",
            "1/1 [==============================] - 0s 13ms/step - loss: 0.0137 - accuracy: 1.0000\n",
            "Epoch 59/150\n",
            "1/1 [==============================] - 0s 12ms/step - loss: 0.0248 - accuracy: 1.0000\n",
            "Epoch 60/150\n",
            "1/1 [==============================] - 0s 15ms/step - loss: 0.0985 - accuracy: 0.9231\n",
            "Epoch 61/150\n",
            "1/1 [==============================] - 0s 15ms/step - loss: 0.0088 - accuracy: 1.0000\n",
            "Epoch 62/150\n",
            "1/1 [==============================] - 0s 14ms/step - loss: 0.0102 - accuracy: 1.0000\n",
            "Epoch 63/150\n",
            "1/1 [==============================] - 0s 13ms/step - loss: 0.0332 - accuracy: 1.0000\n",
            "Epoch 64/150\n",
            "1/1 [==============================] - 0s 8ms/step - loss: 0.0034 - accuracy: 1.0000\n",
            "Epoch 65/150\n",
            "1/1 [==============================] - 0s 14ms/step - loss: 0.0225 - accuracy: 1.0000\n",
            "Epoch 66/150\n",
            "1/1 [==============================] - 0s 10ms/step - loss: 0.0489 - accuracy: 0.9615\n",
            "Epoch 67/150\n",
            "1/1 [==============================] - 0s 10ms/step - loss: 0.0334 - accuracy: 1.0000\n",
            "Epoch 68/150\n",
            "1/1 [==============================] - 0s 11ms/step - loss: 0.0262 - accuracy: 1.0000\n",
            "Epoch 69/150\n",
            "1/1 [==============================] - 0s 8ms/step - loss: 0.0476 - accuracy: 0.9615\n",
            "Epoch 70/150\n",
            "1/1 [==============================] - 0s 8ms/step - loss: 0.0085 - accuracy: 1.0000\n",
            "Epoch 71/150\n",
            "1/1 [==============================] - 0s 8ms/step - loss: 0.0137 - accuracy: 1.0000\n",
            "Epoch 72/150\n",
            "1/1 [==============================] - 0s 8ms/step - loss: 0.0071 - accuracy: 1.0000\n",
            "Epoch 73/150\n",
            "1/1 [==============================] - 0s 9ms/step - loss: 0.0085 - accuracy: 1.0000\n",
            "Epoch 74/150\n",
            "1/1 [==============================] - 0s 9ms/step - loss: 0.0585 - accuracy: 0.9615\n",
            "Epoch 75/150\n",
            "1/1 [==============================] - 0s 11ms/step - loss: 0.0318 - accuracy: 1.0000\n",
            "Epoch 76/150\n",
            "1/1 [==============================] - 0s 20ms/step - loss: 0.0062 - accuracy: 1.0000\n",
            "Epoch 77/150\n",
            "1/1 [==============================] - 0s 9ms/step - loss: 0.0188 - accuracy: 1.0000\n",
            "Epoch 78/150\n",
            "1/1 [==============================] - 0s 7ms/step - loss: 0.0844 - accuracy: 0.9231\n",
            "Epoch 79/150\n",
            "1/1 [==============================] - 0s 8ms/step - loss: 0.1091 - accuracy: 0.9615\n",
            "Epoch 80/150\n",
            "1/1 [==============================] - 0s 8ms/step - loss: 0.0314 - accuracy: 1.0000\n",
            "Epoch 81/150\n",
            "1/1 [==============================] - 0s 8ms/step - loss: 0.0029 - accuracy: 1.0000\n",
            "Epoch 82/150\n",
            "1/1 [==============================] - 0s 8ms/step - loss: 0.0065 - accuracy: 1.0000\n",
            "Epoch 83/150\n",
            "1/1 [==============================] - 0s 8ms/step - loss: 0.0108 - accuracy: 1.0000\n",
            "Epoch 84/150\n",
            "1/1 [==============================] - 0s 9ms/step - loss: 0.0026 - accuracy: 1.0000\n",
            "Epoch 85/150\n",
            "1/1 [==============================] - 0s 11ms/step - loss: 0.0252 - accuracy: 1.0000\n",
            "Epoch 86/150\n",
            "1/1 [==============================] - 0s 8ms/step - loss: 0.0067 - accuracy: 1.0000\n",
            "Epoch 87/150\n",
            "1/1 [==============================] - 0s 9ms/step - loss: 0.0054 - accuracy: 1.0000\n",
            "Epoch 88/150\n",
            "1/1 [==============================] - 0s 13ms/step - loss: 0.0116 - accuracy: 1.0000\n",
            "Epoch 89/150\n",
            "1/1 [==============================] - 0s 13ms/step - loss: 0.0096 - accuracy: 1.0000\n",
            "Epoch 90/150\n",
            "1/1 [==============================] - 0s 9ms/step - loss: 0.0021 - accuracy: 1.0000\n",
            "Epoch 91/150\n",
            "1/1 [==============================] - 0s 9ms/step - loss: 0.0063 - accuracy: 1.0000\n",
            "Epoch 92/150\n",
            "1/1 [==============================] - 0s 8ms/step - loss: 0.0116 - accuracy: 1.0000\n",
            "Epoch 93/150\n",
            "1/1 [==============================] - 0s 19ms/step - loss: 0.0260 - accuracy: 1.0000\n",
            "Epoch 94/150\n",
            "1/1 [==============================] - 0s 40ms/step - loss: 0.0047 - accuracy: 1.0000\n",
            "Epoch 95/150\n",
            "1/1 [==============================] - 0s 13ms/step - loss: 0.0036 - accuracy: 1.0000\n",
            "Epoch 96/150\n",
            "1/1 [==============================] - 0s 10ms/step - loss: 0.0088 - accuracy: 1.0000\n",
            "Epoch 97/150\n",
            "1/1 [==============================] - 0s 10ms/step - loss: 0.0032 - accuracy: 1.0000\n",
            "Epoch 98/150\n",
            "1/1 [==============================] - 0s 10ms/step - loss: 0.0031 - accuracy: 1.0000\n",
            "Epoch 99/150\n",
            "1/1 [==============================] - 0s 10ms/step - loss: 0.0181 - accuracy: 1.0000\n",
            "Epoch 100/150\n",
            "1/1 [==============================] - 0s 10ms/step - loss: 0.0044 - accuracy: 1.0000\n",
            "Epoch 101/150\n",
            "1/1 [==============================] - 0s 10ms/step - loss: 0.0025 - accuracy: 1.0000\n",
            "Epoch 102/150\n",
            "1/1 [==============================] - 0s 10ms/step - loss: 0.0815 - accuracy: 0.9615\n",
            "Epoch 103/150\n",
            "1/1 [==============================] - 0s 10ms/step - loss: 0.0040 - accuracy: 1.0000\n",
            "Epoch 104/150\n",
            "1/1 [==============================] - 0s 10ms/step - loss: 0.0074 - accuracy: 1.0000\n",
            "Epoch 105/150\n",
            "1/1 [==============================] - 0s 10ms/step - loss: 0.0130 - accuracy: 1.0000\n",
            "Epoch 106/150\n",
            "1/1 [==============================] - 0s 9ms/step - loss: 0.0667 - accuracy: 0.9615\n",
            "Epoch 107/150\n",
            "1/1 [==============================] - 0s 9ms/step - loss: 0.0021 - accuracy: 1.0000\n",
            "Epoch 108/150\n",
            "1/1 [==============================] - 0s 12ms/step - loss: 0.0042 - accuracy: 1.0000\n",
            "Epoch 109/150\n",
            "1/1 [==============================] - 0s 14ms/step - loss: 0.0068 - accuracy: 1.0000\n",
            "Epoch 110/150\n",
            "1/1 [==============================] - 0s 9ms/step - loss: 0.0804 - accuracy: 0.9615\n",
            "Epoch 111/150\n",
            "1/1 [==============================] - 0s 9ms/step - loss: 0.0059 - accuracy: 1.0000\n",
            "Epoch 112/150\n",
            "1/1 [==============================] - 0s 9ms/step - loss: 0.0094 - accuracy: 1.0000\n",
            "Epoch 113/150\n",
            "1/1 [==============================] - 0s 11ms/step - loss: 0.0022 - accuracy: 1.0000\n",
            "Epoch 114/150\n",
            "1/1 [==============================] - 0s 10ms/step - loss: 0.0017 - accuracy: 1.0000\n",
            "Epoch 115/150\n",
            "1/1 [==============================] - 0s 10ms/step - loss: 0.0851 - accuracy: 0.9615\n",
            "Epoch 116/150\n",
            "1/1 [==============================] - 0s 10ms/step - loss: 0.0033 - accuracy: 1.0000\n",
            "Epoch 117/150\n",
            "1/1 [==============================] - 0s 10ms/step - loss: 0.0047 - accuracy: 1.0000\n",
            "Epoch 118/150\n",
            "1/1 [==============================] - 0s 11ms/step - loss: 0.0114 - accuracy: 1.0000\n",
            "Epoch 119/150\n",
            "1/1 [==============================] - 0s 12ms/step - loss: 0.0127 - accuracy: 1.0000\n",
            "Epoch 120/150\n",
            "1/1 [==============================] - 0s 10ms/step - loss: 0.0239 - accuracy: 1.0000\n",
            "Epoch 121/150\n",
            "1/1 [==============================] - 0s 11ms/step - loss: 0.0040 - accuracy: 1.0000\n",
            "Epoch 122/150\n",
            "1/1 [==============================] - 0s 13ms/step - loss: 0.0153 - accuracy: 1.0000\n",
            "Epoch 123/150\n",
            "1/1 [==============================] - 0s 13ms/step - loss: 0.0250 - accuracy: 1.0000\n",
            "Epoch 124/150\n",
            "1/1 [==============================] - 0s 17ms/step - loss: 0.0168 - accuracy: 1.0000\n",
            "Epoch 125/150\n",
            "1/1 [==============================] - 0s 12ms/step - loss: 0.0277 - accuracy: 1.0000\n",
            "Epoch 126/150\n",
            "1/1 [==============================] - 0s 11ms/step - loss: 0.0028 - accuracy: 1.0000\n",
            "Epoch 127/150\n",
            "1/1 [==============================] - 0s 10ms/step - loss: 0.1805 - accuracy: 0.9231\n",
            "Epoch 128/150\n",
            "1/1 [==============================] - 0s 11ms/step - loss: 0.0103 - accuracy: 1.0000\n",
            "Epoch 129/150\n",
            "1/1 [==============================] - 0s 17ms/step - loss: 7.9663e-04 - accuracy: 1.0000\n",
            "Epoch 130/150\n",
            "1/1 [==============================] - 0s 11ms/step - loss: 5.7755e-04 - accuracy: 1.0000\n",
            "Epoch 131/150\n",
            "1/1 [==============================] - 0s 9ms/step - loss: 0.0075 - accuracy: 1.0000\n",
            "Epoch 132/150\n",
            "1/1 [==============================] - 0s 10ms/step - loss: 7.7090e-04 - accuracy: 1.0000\n",
            "Epoch 133/150\n",
            "1/1 [==============================] - 0s 11ms/step - loss: 0.0118 - accuracy: 1.0000\n",
            "Epoch 134/150\n",
            "1/1 [==============================] - 0s 11ms/step - loss: 0.0065 - accuracy: 1.0000\n",
            "Epoch 135/150\n",
            "1/1 [==============================] - 0s 22ms/step - loss: 0.0011 - accuracy: 1.0000\n",
            "Epoch 136/150\n",
            "1/1 [==============================] - 0s 16ms/step - loss: 0.0036 - accuracy: 1.0000\n",
            "Epoch 137/150\n",
            "1/1 [==============================] - 0s 19ms/step - loss: 0.0367 - accuracy: 1.0000\n",
            "Epoch 138/150\n",
            "1/1 [==============================] - 0s 13ms/step - loss: 0.0170 - accuracy: 1.0000\n",
            "Epoch 139/150\n",
            "1/1 [==============================] - 0s 13ms/step - loss: 0.0015 - accuracy: 1.0000\n",
            "Epoch 140/150\n",
            "1/1 [==============================] - 0s 13ms/step - loss: 6.7398e-04 - accuracy: 1.0000\n",
            "Epoch 141/150\n",
            "1/1 [==============================] - 0s 14ms/step - loss: 0.0252 - accuracy: 1.0000\n",
            "Epoch 142/150\n",
            "1/1 [==============================] - 0s 14ms/step - loss: 0.0198 - accuracy: 1.0000\n",
            "Epoch 143/150\n",
            "1/1 [==============================] - 0s 20ms/step - loss: 0.0321 - accuracy: 1.0000\n",
            "Epoch 144/150\n",
            "1/1 [==============================] - 0s 18ms/step - loss: 0.0127 - accuracy: 1.0000\n",
            "Epoch 145/150\n",
            "1/1 [==============================] - 0s 21ms/step - loss: 0.0135 - accuracy: 1.0000\n",
            "Epoch 146/150\n",
            "1/1 [==============================] - 0s 17ms/step - loss: 0.0514 - accuracy: 0.9615\n",
            "Epoch 147/150\n",
            "1/1 [==============================] - 0s 12ms/step - loss: 0.0197 - accuracy: 1.0000\n",
            "Epoch 148/150\n",
            "1/1 [==============================] - 0s 10ms/step - loss: 0.0025 - accuracy: 1.0000\n",
            "Epoch 149/150\n",
            "1/1 [==============================] - 0s 9ms/step - loss: 0.0093 - accuracy: 1.0000\n",
            "Epoch 150/150\n",
            "1/1 [==============================] - 0s 8ms/step - loss: 0.0212 - accuracy: 1.0000\n"
          ]
        },
        {
          "output_type": "execute_result",
          "data": {
            "text/plain": [
              "<keras.callbacks.History at 0x7fe840db53d0>"
            ]
          },
          "metadata": {},
          "execution_count": 46
        }
      ]
    },
    {
      "cell_type": "code",
      "source": [
        "def clean_text(text):\n",
        "  tokens=nltk.word_tokenize(text)\n",
        "  tokens=[lemmatizer.lemmatize(word) for word in tokens]\n",
        "  return tokens"
      ],
      "metadata": {
        "id": "PsWXgPW3495R"
      },
      "execution_count": null,
      "outputs": []
    },
    {
      "cell_type": "code",
      "source": [
        "def bag_of_words(text,vocab):\n",
        "  tokens=clean_text(text)\n",
        "  bow=[0]*len(vocab)\n",
        "  for w in tokens:\n",
        "    for idx, word in enumerate(vocab):\n",
        "      if word== w:\n",
        "        bow[idx]=1\n",
        "  \n",
        "  return np.array(bow)"
      ],
      "metadata": {
        "id": "6iZpXHUK5TKS"
      },
      "execution_count": null,
      "outputs": []
    },
    {
      "cell_type": "code",
      "source": [
        "def pred_class(text,vocab, labels):\n",
        "  bow=bag_of_words(text,vocab)\n",
        "  result=model.predict(np.array([bow]))[0]\n",
        "  thresh=0.5\n",
        "  y_pred=[[indx,res] for indx, res in enumerate(result) if res>thresh]\n",
        "  y_pred.sort(key=lambda x: x[1], reverse=True)\n",
        "  return_list=[]\n",
        "\n",
        "  for r in y_pred:\n",
        "    return_list.append(labels[r[0]])\n",
        "  \n",
        "  return return_list"
      ],
      "metadata": {
        "id": "2H7FDKvR5kT1"
      },
      "execution_count": null,
      "outputs": []
    },
    {
      "cell_type": "code",
      "source": [
        "def get_response(intents_list,intents_json):\n",
        "  if len(intents_list)==0:\n",
        "    result='Sorry! I dont understand'\n",
        "  else:\n",
        "    tag=intents_list[0]\n",
        "    list_of_intents=intents_json['intents']\n",
        "    for i in list_of_intents:\n",
        "      if i['tag']==tag:\n",
        "        result=random.choice(i['responses'])\n",
        "        break\n",
        "\n",
        "    return result"
      ],
      "metadata": {
        "id": "ElExOKvR6HTr"
      },
      "execution_count": null,
      "outputs": []
    },
    {
      "cell_type": "code",
      "source": [
        "print('press 0 if you want to quit')\n",
        "while True:\n",
        "  message=input('')\n",
        "  if message=='0':\n",
        "    break\n",
        "\n",
        "  intents=pred_class(message,words,classes)\n",
        "  result=get_response(intents,data)\n",
        "  print(result)"
      ],
      "metadata": {
        "colab": {
          "base_uri": "https://localhost:8080/"
        },
        "id": "zMCOWqru6laU",
        "outputId": "7015d079-93a8-4791-cb1a-096106a1a8a5"
      },
      "execution_count": null,
      "outputs": [
        {
          "name": "stdout",
          "output_type": "stream",
          "text": [
            "press 0 if you want to quit\n",
            "0\n"
          ]
        }
      ]
    },
    {
      "cell_type": "code",
      "source": [
        ""
      ],
      "metadata": {
        "id": "kwVfQdZj7EDE"
      },
      "execution_count": null,
      "outputs": []
    }
  ]
}